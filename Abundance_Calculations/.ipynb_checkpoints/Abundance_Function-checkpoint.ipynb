{
 "cells": [
  {
   "cell_type": "markdown",
   "metadata": {},
   "source": [
    "This Jupyter notebook, which is based on Python 3, is designed to calculate the abundances of N elements in the neutron star merger mixture. The notebook will contain several functions to easily calculate values such as temperature, abundances, and ionization potentials."
   ]
  },
  {
   "cell_type": "markdown",
   "metadata": {},
   "source": [
    "In this notebook, I have a function for the potentials, initialization of values, calculation of abundances, and plotting"
   ]
  },
  {
   "cell_type": "code",
   "execution_count": 1,
   "metadata": {},
   "outputs": [
    {
     "data": {
      "text/plain": [
       "<module 'saha_mult' from '/home/nalamwar/Research/R-process_Mergers/Abundance_Calculations/saha_mult.py'>"
      ]
     },
     "execution_count": 1,
     "metadata": {},
     "output_type": "execute_result"
    }
   ],
   "source": [
    "#Importing Libraries\n",
    "import saha_mult #Class used to calculate abundances \n",
    "import numpy as np\n",
    "import h5py\n",
    "import matplotlib.pyplot as plt\n",
    "import pandas as pd\n",
    "import scipy.constants as sc\n",
    "\n",
    "import importlib \n",
    "importlib.reload(saha_mult) #This command ensures that any changes made to saha_mult class are reflected in this notebook"
   ]
  },
  {
   "cell_type": "code",
   "execution_count": 2,
   "metadata": {},
   "outputs": [],
   "source": [
    "#Read in data for ionization potentials and skynet stuff\n",
    "#Note that the NIST data table includes many elements that just skip ionization potentials, so I set a cutoff at Lr.\n",
    "nist = pd.read_excel(\"NIST Data Table.xlsx\")\n",
    "hf = h5py.File(\"SkyNet_r-process.h5\")"
   ]
  },
  {
   "cell_type": "code",
   "execution_count": 3,
   "metadata": {},
   "outputs": [],
   "source": [
    "#This function here will return all the ionization potentials of the desired elements. Enter the starting element and\n",
    "#ending element Z number. This will return an array of arrays. Note the starting position of the array!\n",
    "\n",
    "#The way I did this was similar to the Multiple Elements Scenario code, but I added an extra array called \n",
    "#returned_potentials, which is designed to return an array of all the desired potentials we wanted\n",
    "ion_energies1d =  nist[' Ionization  Energy (eV)']\n",
    "\n",
    "def ionization_generator(elements):\n",
    "    max_el = 103 #This is defined to be the Z of the last element that I want in the list \n",
    "    ion_energies = list()\n",
    "    returned_potentials = list()\n",
    "    counter = 0\n",
    "\n",
    "    for i in range(0,max_el+1):\n",
    "        specific_list = list()\n",
    "\n",
    "        for j in range(i):\n",
    "\n",
    "            if isinstance(ion_energies1d[counter],str):\n",
    "\n",
    "                if len(ion_energies1d[counter]) ==3:\n",
    "                    specific_list.append(0)\n",
    "                    counter+=1\n",
    "                else:\n",
    "                    str_num = '' \n",
    "\n",
    "                    for k in ion_energies1d[counter]:\n",
    "\n",
    "                        if (k != ' ') and (k !='[') and (k !=']') and (k !='(') and (k !=')'):\n",
    "                            str_num+=k\n",
    "\n",
    "                    specific_list.append(np.abs(float(str_num)))\n",
    "                    counter+=1\n",
    "\n",
    "\n",
    "            else:\n",
    "                specific_list.append(np.abs(ion_energies1d[counter]))\n",
    "                counter+=1\n",
    "\n",
    "        ion_energies.append(specific_list)\n",
    "    ion_energies[-1][-2] = np.average([ion_energies[-1][-1],ion_energies[-1][-3]])\n",
    "    ion_energies[-1][-2]\n",
    "        \n",
    "    for i in range(len(elements)):\n",
    "        returned_potentials.append(ion_energies[elements[i]])        \n",
    "        \n",
    "    return returned_potentials"
   ]
  },
  {
   "cell_type": "code",
   "execution_count": 4,
   "metadata": {},
   "outputs": [],
   "source": [
    "#This cell is simply for temperature, and since it does not change no matter the elements used, I do not use a function\n",
    "#At some point, I will have to find a way to find the places to calculate the indices to use to find slope for other hdf5s\n",
    "temperature = hf[\"Temperature\"]\n",
    "time = hf[\"Time\"]\n",
    "mod_temp = []\n",
    "full_temp = []\n",
    "\n",
    "linear = np.polyfit(np.log10(np.array(time[900:1700])),np.log10(np.array(temperature[900:1700])),1)\n",
    "m = linear[0]\n",
    "\n",
    "for i in range(0,len(temperature)):\n",
    "    if i < 1700:\n",
    "        mod_temp.append(np.log10(temperature[i]))\n",
    "        full_temp.append(temperature[i])\n",
    "    else:\n",
    "        del_t = m*(np.log10(time[i]) - np.log10(time[i-1]))\n",
    "        mod_temp.append(mod_temp[i-1]+del_t)\n",
    "        full_temp.append(10**mod_temp[i])"
   ]
  },
  {
   "cell_type": "code",
   "execution_count": 5,
   "metadata": {},
   "outputs": [],
   "source": [
    "#initialization of ionization potentials and full abundances from Skynet\n",
    "#used in the abundance calculation function\n",
    "abundance = hf[\"Y\"]\n",
    "charge = hf[\"Z\"]\n",
    "density = hf[\"Density\"]\n",
    "kbEvpGK = 8.617e-5*1e9\n",
    "\n",
    "def initialization(elements):\n",
    "\n",
    "    full_abundance = []\n",
    "    ion_potential = ionization_generator(elements)\n",
    "    \n",
    "    for i in range(len(elements)):\n",
    "        temp_index = []\n",
    "        temp_abundance = []\n",
    "        \n",
    "        for j in range(len(charge)):\n",
    "            \n",
    "            if charge[j] == (elements[i]): ##charge of element\n",
    "                temp_index.append(j)\n",
    "                \n",
    "        temp_abundance = np.sum(abundance[:, temp_index], 1)\n",
    "        full_abundance.append(temp_abundance)\n",
    "        \n",
    "    return np.array(full_abundance),np.array(ion_potential)"
   ]
  },
  {
   "cell_type": "code",
   "execution_count": 6,
   "metadata": {},
   "outputs": [],
   "source": [
    "#Abundance function\n",
    "def abundance_calculation(elements):\n",
    "    x,y = initialization(elements)\n",
    "    return np.array(saha_mult.GetAbundances(x,np.array(full_temp),np.array(density),y))"
   ]
  },
  {
   "cell_type": "code",
   "execution_count": 7,
   "metadata": {},
   "outputs": [
    {
     "name": "stderr",
     "output_type": "stream",
     "text": [
      "/home/nalamwar/Research/R-process_Mergers/Abundance_Calculations/saha_mult.py:109: RuntimeWarning: divide by zero encountered in log\n",
      "  fLow = np.log(GetYefContribution(Ytot, T9, rho, lnYefLow, xi)) - lnYefLow\n",
      "/home/nalamwar/Research/R-process_Mergers/Abundance_Calculations/saha_mult.py:110: RuntimeWarning: divide by zero encountered in log\n",
      "  fHi = np.log(GetYefContribution(Ytot, T9, rho, lnYefHi, xi)) - lnYefHi\n",
      "/home/nalamwar/Research/R-process_Mergers/Abundance_Calculations/saha_mult.py:121: RuntimeWarning: divide by zero encountered in log\n",
      "  fMid = np.log(GetYefContribution(Ytot, T9, rho, lnYefMid, xi)) - lnYefMid\n"
     ]
    }
   ],
   "source": [
    "#Call to function to generate data\n",
    "YI = abundance_calculation([62])"
   ]
  },
  {
   "cell_type": "code",
   "execution_count": 8,
   "metadata": {},
   "outputs": [
    {
     "name": "stderr",
     "output_type": "stream",
     "text": [
      "/opt/anaconda3/lib/python3.7/site-packages/ipykernel_launcher.py:3: RuntimeWarning: invalid value encountered in true_divide\n",
      "  This is separate from the ipykernel package so we can avoid doing imports until\n"
     ]
    },
    {
     "data": {
      "text/plain": [
       "Text(0, 0.5, 'Abundance')"
      ]
     },
     "execution_count": 8,
     "metadata": {},
     "output_type": "execute_result"
    },
    {
     "data": {
      "image/png": "[encoded data removed]",
      "text/plain": [
       "<Figure size 432x288 with 1 Axes>"
      ]
     },
     "metadata": {
      "needs_background": "light"
     },
     "output_type": "display_data"
    }
   ],
   "source": [
    "def plotter(abun):\n",
    "    Ytot = np.sum(YI[0],1)\n",
    "    for i in range(len(YI[0][0])):\n",
    "        plt.semilogx(kbEvpGK*np.array(full_temp),(YI[0][:,i])/Ytot)\n",
    "\n",
    "    plt.xlabel(\"Energy(eV)\")\n",
    "    plt.ylabel(\"Abundance\")"
   ]
  },
  {
   "cell_type": "code",
   "execution_count": null,
   "metadata": {},
   "outputs": [],
   "source": []
  },
  {
   "cell_type": "code",
   "execution_count": null,
   "metadata": {},
   "outputs": [],
   "source": []
  }
 ],
 "metadata": {
  "kernelspec": {
   "display_name": "Python 3",
   "language": "python",
   "name": "python3"
  },
  "language_info": {
   "codemirror_mode": {
    "name": "ipython",
    "version": 3
   },
   "file_extension": ".py",
   "mimetype": "text/x-python",
   "name": "python",
   "nbconvert_exporter": "python",
   "pygments_lexer": "ipython3",
   "version": "3.7.3"
  }
 },
 "nbformat": 4,
 "nbformat_minor": 2
}
