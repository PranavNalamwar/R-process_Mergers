{
 "cells": [
  {
   "cell_type": "markdown",
   "metadata": {},
   "source": [
    "This Jupyter notebook, which is based on Python 3, is designed to calculate the abundances of N elements in the neutron star merger mixture. The notebook will contain several functions to easily calculate values such as temperature, abundances, and ionization potentials."
   ]
  },
  {
   "cell_type": "markdown",
   "metadata": {},
   "source": [
    "In this notebook, I have a function for the potentials, initialization of values, calculation of abundances, and plotting"
   ]
  },
  {
   "cell_type": "code",
   "execution_count": 1,
   "metadata": {},
   "outputs": [
    {
     "data": {
      "text/plain": [
       "<module 'saha_mult' from '/home/nalamwar/Research/R-process_Mergers/Abundance_Calculations/saha_mult.py'>"
      ]
     },
     "execution_count": 1,
     "metadata": {},
     "output_type": "execute_result"
    }
   ],
   "source": [
    "#Importing Libraries\n",
    "import saha_mult #Class used to calculate abundances \n",
    "import numpy as np\n",
    "import h5py\n",
    "import matplotlib.pyplot as plt\n",
    "import pandas as pd\n",
    "import scipy.constants as sc\n",
    "from time import process_time #Useful for finding calculation times\n",
    "\n",
    "import importlib \n",
    "importlib.reload(saha_mult) #This command ensures that any changes made to saha_mult class are reflected in this notebook"
   ]
  },
  {
   "cell_type": "code",
   "execution_count": 2,
   "metadata": {},
   "outputs": [],
   "source": [
    "#Read in data for ionization potentials and skynet stuff\n",
    "#Note that the NIST data table includes many elements that just skip ionization potentials, so I set a cutoff at Lr.\n",
    "nist = pd.read_excel(\"NIST Data Table.xlsx\")\n",
    "hf = h5py.File(\"SkyNet_r-process.h5\")"
   ]
  },
  {
   "cell_type": "code",
   "execution_count": 3,
   "metadata": {},
   "outputs": [],
   "source": [
    "#This function here will return all the ionization potentials of the desired elements. Enter the starting element and\n",
    "#ending element Z number. This will return an array of arrays. Note the starting position of the array!\n",
    "\n",
    "#The way I did this was similar to the Multiple Elements Scenario code, but I added an extra array called \n",
    "#returned_potentials, which is designed to return an array of all the desired potentials we wanted\n",
    "ion_energies1d =  nist[' Ionization  Energy (eV)']\n",
    "\n",
    "def ionization_generator(elements):\n",
    "    max_el = 103 #This is defined to be the Z of the last element that I want in the list \n",
    "    ion_energies = list()\n",
    "    returned_potentials = list()\n",
    "    counter = 0\n",
    "\n",
    "    for i in range(0,max_el+1):\n",
    "        specific_list = list()\n",
    "\n",
    "        for j in range(i):\n",
    "\n",
    "            if isinstance(ion_energies1d[counter],str):\n",
    "\n",
    "                if len(ion_energies1d[counter]) ==3:\n",
    "                    specific_list.append(0)\n",
    "                    counter+=1\n",
    "                else:\n",
    "                    str_num = '' \n",
    "\n",
    "                    for k in ion_energies1d[counter]:\n",
    "\n",
    "                        if (k != ' ') and (k !='[') and (k !=']') and (k !='(') and (k !=')'):\n",
    "                            str_num+=k\n",
    "\n",
    "                    specific_list.append(np.abs(float(str_num)))\n",
    "                    counter+=1\n",
    "\n",
    "\n",
    "            else:\n",
    "                specific_list.append(np.array((np.abs(ion_energies1d[counter]))))\n",
    "                counter+=1\n",
    "\n",
    "        ion_energies.append(specific_list)\n",
    "    ion_energies[-1][-2] = np.average([ion_energies[-1][-1],ion_energies[-1][-3]])\n",
    "    ion_energies[-1][-2]\n",
    "        \n",
    "    for i in range(len(elements)):\n",
    "        returned_potentials.append(np.array((ion_energies[elements[i]])))        \n",
    "        \n",
    "    return np.array(returned_potentials)"
   ]
  },
  {
   "cell_type": "code",
   "execution_count": 4,
   "metadata": {},
   "outputs": [],
   "source": [
    "#This cell is simply for temperature, and since it does not change no matter the elements used, I do not use a function\n",
    "#At some point, I will have to find a way to find the places to calculate the indices to use to find slope for other hdf5s\n",
    "temperature = hf[\"Temperature\"]\n",
    "time = hf[\"Time\"]\n",
    "mod_temp = []\n",
    "full_temp = []\n",
    "\n",
    "linear = np.polyfit(np.log10(np.array(time[900:1700])),np.log10(np.array(temperature[900:1700])),1)\n",
    "m = linear[0]\n",
    "\n",
    "for i in range(0,len(temperature)):\n",
    "    if i < 1700:\n",
    "        mod_temp.append(np.log10(temperature[i]))\n",
    "        full_temp.append(temperature[i])\n",
    "    else:\n",
    "        del_t = m*(np.log10(time[i]) - np.log10(time[i-1]))\n",
    "        mod_temp.append(mod_temp[i-1]+del_t)\n",
    "        full_temp.append(10**mod_temp[i])"
   ]
  },
  {
   "cell_type": "code",
   "execution_count": 5,
   "metadata": {},
   "outputs": [],
   "source": [
    "#initialization of ionization potentials and full abundances from Skynet\n",
    "#used in the abundance calculation function\n",
    "abundance = hf[\"Y\"]\n",
    "charge = hf[\"Z\"]\n",
    "density = hf[\"Density\"]\n",
    "kbEvpGK = 8.617e-5*1e9\n",
    "\n",
    "def initialization(elements):\n",
    "\n",
    "    full_abundance = []\n",
    "    ion_potential = ionization_generator(elements)\n",
    "    \n",
    "    for i in range(len(elements)):\n",
    "        temp_index = []\n",
    "        temp_abundance = []\n",
    "        \n",
    "        for j in range(len(charge)):\n",
    "            \n",
    "            if charge[j] == (elements[i]): ##charge of element\n",
    "                temp_index.append(j)\n",
    "                \n",
    "        temp_abundance = np.sum(abundance[:, temp_index], 1)\n",
    "        full_abundance.append(temp_abundance)\n",
    "        \n",
    "    return np.array(full_abundance),np.array(ion_potential)"
   ]
  },
  {
   "cell_type": "code",
   "execution_count": 6,
   "metadata": {},
   "outputs": [],
   "source": [
    "#Abundance function\n",
    "def abundance_calculation(elements):\n",
    "    x,y = initialization(elements)\n",
    "    return (saha_mult.GetAbundances(x,np.array(full_temp),np.array(density),y))"
   ]
  },
  {
   "cell_type": "code",
   "execution_count": 7,
   "metadata": {},
   "outputs": [
    {
     "name": "stderr",
     "output_type": "stream",
     "text": [
      "/home/nalamwar/Research/R-process_Mergers/Abundance_Calculations/saha_mult.py:109: RuntimeWarning: divide by zero encountered in log\n",
      "  fLow = np.log(GetYefContribution(Ytot, T9, rho, lnYefLow, xi)) - lnYefLow\n",
      "/home/nalamwar/Research/R-process_Mergers/Abundance_Calculations/saha_mult.py:110: RuntimeWarning: divide by zero encountered in log\n",
      "  fHi = np.log(GetYefContribution(Ytot, T9, rho, lnYefHi, xi)) - lnYefHi\n",
      "/home/nalamwar/Research/R-process_Mergers/Abundance_Calculations/saha_mult.py:121: RuntimeWarning: divide by zero encountered in log\n",
      "  fMid = np.log(GetYefContribution(Ytot, T9, rho, lnYefMid, xi)) - lnYefMid\n"
     ]
    },
    {
     "name": "stdout",
     "output_type": "stream",
     "text": [
      "This calculation took 13.389995253  sec\n"
     ]
    }
   ],
   "source": [
    "#Call to function to generate data. Also, calculate time it takes.\n",
    "\n",
    "time_start = process_time()\n",
    "YI = abundance_calculation([8,9])\n",
    "time_elapsed = (process_time() - time_start)\n",
    "print(\"This calculation took\",time_elapsed,' sec')"
   ]
  },
  {
   "cell_type": "code",
   "execution_count": 8,
   "metadata": {},
   "outputs": [
    {
     "name": "stderr",
     "output_type": "stream",
     "text": [
      "/opt/anaconda3/lib/python3.7/site-packages/ipykernel_launcher.py:13: DeprecationWarning: elementwise comparison failed; this will raise an error in the future.\n",
      "  del sys.path[0]\n"
     ]
    },
    {
     "data": {
      "image/png": "[encoded data removed]",
      "text/plain": [
       "<Figure size 432x288 with 1 Axes>"
      ]
     },
     "metadata": {
      "needs_background": "light"
     },
     "output_type": "display_data"
    },
    {
     "data": {
      "image/png": "[encoded data removed]",
      "text/plain": [
       "<Figure size 432x288 with 1 Axes>"
      ]
     },
     "metadata": {
      "needs_background": "light"
     },
     "output_type": "display_data"
    },
    {
     "data": {
      "image/png": "[encoded data removed]",
      "text/plain": [
       "<Figure size 432x288 with 1 Axes>"
      ]
     },
     "metadata": {
      "needs_background": "light"
     },
     "output_type": "display_data"
    },
    {
     "name": "stdout",
     "output_type": "stream",
     "text": [
      "This calculation took 5.734000533  sec\n"
     ]
    }
   ],
   "source": [
    "#Function to plot everything!At some point, I might add functionality to choosing which things to graph\n",
    "def plotter(abun):\n",
    "    time_start = process_time()\n",
    "    colors = ['r','b'] #Just a color scheme to indicate varying elements instead of having too many colors.\n",
    "    x = np.zeros((len(abun[0]),len(abun[-1][0]))) #Initializing the array useful in tracking ionization state abundances\n",
    "    checksum = []#Another way to calculating the total sum across time. \n",
    "    index_total = [] #Calculating total sum across time \n",
    "       \n",
    "    #Plotting abundances\n",
    "    for Y in abun:\n",
    "        Ytot = np.sum(Y,1)\n",
    "        for i in range(len(Y[0])):\n",
    "            plt.semilogx(kbEvpGK*np.array(full_temp),(Y[:,i])/Ytot,color = colors[abun.index(Y)])\n",
    "            plt.xlabel(\"Temperature(eV)\")\n",
    "            plt.ylabel(\"Abundance\")\n",
    "            plt.title(\"Abundances of Elements in Mixture vs Temperature\")\n",
    "    \n",
    "    plt.show()\n",
    "    \n",
    "    #PLot of all Abundances over Time\n",
    "    for Y in abun:\n",
    "        x[0:len(Y),0:len(Y[0])]+=Y\n",
    "    \n",
    "    for i in range(len(abun[-1][0])):\n",
    "        Ytot = np.sum(x,1)\n",
    "        plt.semilogx(kbEvpGK*np.array(full_temp),x[:,i]/Ytot,label = i)\n",
    "        plt.legend()\n",
    "        plt.xlabel(\"Temperature(eV)\")\n",
    "        plt.ylabel(\"Abundance of Ionization States\")\n",
    "        plt.title(\"Abundances of All Ionization States vs Temperature\")\n",
    "                   \n",
    "    plt.show()\n",
    "    \n",
    "    #Plotting the Graphical Check\n",
    "    for i in range(len(abun[0])):\n",
    "        summation = 0\n",
    "        temp_sum = 0\n",
    "        for Y in abun:\n",
    "            summation+=np.sum(Y[i])\n",
    "            temp_sum+=np.sum(Y,1)\n",
    "        checksum.append(summation)\n",
    "        index_total.append(temp_sum)\n",
    "    \n",
    "    plt.semilogx(kbEvpGK*np.array(full_temp),np.array(checksum)/np.array(index_total))\n",
    "    plt.xlabel(\"Energy(eV)\")\n",
    "    plt.ylabel(\"Ratio of Sum of Abundances per Timestep over Total\")\n",
    "    plt.title(\"Graphical Check of Abundances\")\n",
    "    plt.show()\n",
    "    \n",
    "    #Quick calculation of how long it takes\n",
    "    time_elapsed = (process_time() - time_start)\n",
    "    print(\"This calculation took\",time_elapsed,' sec')\n",
    "plotter(YI)"
   ]
  },
  {
   "cell_type": "code",
   "execution_count": 9,
   "metadata": {},
   "outputs": [],
   "source": [
    "#Trying stuff\n",
    "ntimes = 2\n",
    "a = [np.ones((2,ntimes)), 2*np.ones((3,ntimes)), 3*np.ones((4,ntimes)), 1.0*np.ones((5,ntimes))]\n",
    "lenmax = 0\n",
    "for arr in a:\n",
    "    lenmax = max(lenmax, len(arr[:,0]))\n",
    "result = np.zeros((lenmax,ntimes))\n",
    "for arr in a:\n",
    "    result[0:len(arr),:] += arr"
   ]
  },
  {
   "cell_type": "code",
   "execution_count": 10,
   "metadata": {},
   "outputs": [
    {
     "data": {
      "text/html": [
       "<div>\n",
       "<style scoped>\n",
       "    .dataframe tbody tr th:only-of-type {\n",
       "        vertical-align: middle;\n",
       "    }\n",
       "\n",
       "    .dataframe tbody tr th {\n",
       "        vertical-align: top;\n",
       "    }\n",
       "\n",
       "    .dataframe thead th {\n",
       "        text-align: right;\n",
       "    }\n",
       "</style>\n",
       "<table border=\"1\" class=\"dataframe\">\n",
       "  <thead>\n",
       "    <tr style=\"text-align: right;\">\n",
       "      <th></th>\n",
       "      <th>0</th>\n",
       "      <th>1</th>\n",
       "      <th>2</th>\n",
       "      <th>3</th>\n",
       "      <th>4</th>\n",
       "      <th>5</th>\n",
       "      <th>6</th>\n",
       "      <th>7</th>\n",
       "      <th>8</th>\n",
       "      <th>9</th>\n",
       "    </tr>\n",
       "  </thead>\n",
       "  <tbody>\n",
       "    <tr>\n",
       "      <th>0</th>\n",
       "      <td>4.797031e-112</td>\n",
       "      <td>5.761784e-100</td>\n",
       "      <td>6.920275e-88</td>\n",
       "      <td>8.311380e-76</td>\n",
       "      <td>9.981688e-64</td>\n",
       "      <td>1.198683e-51</td>\n",
       "      <td>1.439409e-39</td>\n",
       "      <td>1.726470e-27</td>\n",
       "      <td>2.070251e-15</td>\n",
       "      <td>1.797505e-17</td>\n",
       "    </tr>\n",
       "    <tr>\n",
       "      <th>1</th>\n",
       "      <td>4.797031e-112</td>\n",
       "      <td>5.761784e-100</td>\n",
       "      <td>6.920275e-88</td>\n",
       "      <td>8.311380e-76</td>\n",
       "      <td>9.981688e-64</td>\n",
       "      <td>1.198683e-51</td>\n",
       "      <td>1.439409e-39</td>\n",
       "      <td>1.726470e-27</td>\n",
       "      <td>2.070251e-15</td>\n",
       "      <td>1.797505e-17</td>\n",
       "    </tr>\n",
       "    <tr>\n",
       "      <th>2</th>\n",
       "      <td>4.797031e-112</td>\n",
       "      <td>5.761784e-100</td>\n",
       "      <td>6.920275e-88</td>\n",
       "      <td>8.311380e-76</td>\n",
       "      <td>9.981688e-64</td>\n",
       "      <td>1.198683e-51</td>\n",
       "      <td>1.439409e-39</td>\n",
       "      <td>1.726470e-27</td>\n",
       "      <td>2.070251e-15</td>\n",
       "      <td>1.797505e-17</td>\n",
       "    </tr>\n",
       "    <tr>\n",
       "      <th>3</th>\n",
       "      <td>4.797031e-112</td>\n",
       "      <td>5.761784e-100</td>\n",
       "      <td>6.920275e-88</td>\n",
       "      <td>8.311380e-76</td>\n",
       "      <td>9.981688e-64</td>\n",
       "      <td>1.198683e-51</td>\n",
       "      <td>1.439409e-39</td>\n",
       "      <td>1.726470e-27</td>\n",
       "      <td>2.070251e-15</td>\n",
       "      <td>1.797505e-17</td>\n",
       "    </tr>\n",
       "    <tr>\n",
       "      <th>4</th>\n",
       "      <td>4.797031e-112</td>\n",
       "      <td>5.761784e-100</td>\n",
       "      <td>6.920275e-88</td>\n",
       "      <td>8.311380e-76</td>\n",
       "      <td>9.981688e-64</td>\n",
       "      <td>1.198683e-51</td>\n",
       "      <td>1.439409e-39</td>\n",
       "      <td>1.726470e-27</td>\n",
       "      <td>2.070251e-15</td>\n",
       "      <td>1.797505e-17</td>\n",
       "    </tr>\n",
       "    <tr>\n",
       "      <th>...</th>\n",
       "      <td>...</td>\n",
       "      <td>...</td>\n",
       "      <td>...</td>\n",
       "      <td>...</td>\n",
       "      <td>...</td>\n",
       "      <td>...</td>\n",
       "      <td>...</td>\n",
       "      <td>...</td>\n",
       "      <td>...</td>\n",
       "      <td>...</td>\n",
       "    </tr>\n",
       "    <tr>\n",
       "      <th>2193</th>\n",
       "      <td>1.804069e-07</td>\n",
       "      <td>0.000000e+00</td>\n",
       "      <td>0.000000e+00</td>\n",
       "      <td>0.000000e+00</td>\n",
       "      <td>0.000000e+00</td>\n",
       "      <td>0.000000e+00</td>\n",
       "      <td>0.000000e+00</td>\n",
       "      <td>0.000000e+00</td>\n",
       "      <td>0.000000e+00</td>\n",
       "      <td>0.000000e+00</td>\n",
       "    </tr>\n",
       "    <tr>\n",
       "      <th>2194</th>\n",
       "      <td>1.804069e-07</td>\n",
       "      <td>0.000000e+00</td>\n",
       "      <td>0.000000e+00</td>\n",
       "      <td>0.000000e+00</td>\n",
       "      <td>0.000000e+00</td>\n",
       "      <td>0.000000e+00</td>\n",
       "      <td>0.000000e+00</td>\n",
       "      <td>0.000000e+00</td>\n",
       "      <td>0.000000e+00</td>\n",
       "      <td>0.000000e+00</td>\n",
       "    </tr>\n",
       "    <tr>\n",
       "      <th>2195</th>\n",
       "      <td>1.804069e-07</td>\n",
       "      <td>0.000000e+00</td>\n",
       "      <td>0.000000e+00</td>\n",
       "      <td>0.000000e+00</td>\n",
       "      <td>0.000000e+00</td>\n",
       "      <td>0.000000e+00</td>\n",
       "      <td>0.000000e+00</td>\n",
       "      <td>0.000000e+00</td>\n",
       "      <td>0.000000e+00</td>\n",
       "      <td>0.000000e+00</td>\n",
       "    </tr>\n",
       "    <tr>\n",
       "      <th>2196</th>\n",
       "      <td>1.804069e-07</td>\n",
       "      <td>0.000000e+00</td>\n",
       "      <td>0.000000e+00</td>\n",
       "      <td>0.000000e+00</td>\n",
       "      <td>0.000000e+00</td>\n",
       "      <td>0.000000e+00</td>\n",
       "      <td>0.000000e+00</td>\n",
       "      <td>0.000000e+00</td>\n",
       "      <td>0.000000e+00</td>\n",
       "      <td>0.000000e+00</td>\n",
       "    </tr>\n",
       "    <tr>\n",
       "      <th>2197</th>\n",
       "      <td>1.804069e-07</td>\n",
       "      <td>0.000000e+00</td>\n",
       "      <td>0.000000e+00</td>\n",
       "      <td>0.000000e+00</td>\n",
       "      <td>0.000000e+00</td>\n",
       "      <td>0.000000e+00</td>\n",
       "      <td>0.000000e+00</td>\n",
       "      <td>0.000000e+00</td>\n",
       "      <td>0.000000e+00</td>\n",
       "      <td>0.000000e+00</td>\n",
       "    </tr>\n",
       "  </tbody>\n",
       "</table>\n",
       "<p>2198 rows × 10 columns</p>\n",
       "</div>"
      ],
      "text/plain": [
       "                  0              1             2             3             4  \\\n",
       "0     4.797031e-112  5.761784e-100  6.920275e-88  8.311380e-76  9.981688e-64   \n",
       "1     4.797031e-112  5.761784e-100  6.920275e-88  8.311380e-76  9.981688e-64   \n",
       "2     4.797031e-112  5.761784e-100  6.920275e-88  8.311380e-76  9.981688e-64   \n",
       "3     4.797031e-112  5.761784e-100  6.920275e-88  8.311380e-76  9.981688e-64   \n",
       "4     4.797031e-112  5.761784e-100  6.920275e-88  8.311380e-76  9.981688e-64   \n",
       "...             ...            ...           ...           ...           ...   \n",
       "2193   1.804069e-07   0.000000e+00  0.000000e+00  0.000000e+00  0.000000e+00   \n",
       "2194   1.804069e-07   0.000000e+00  0.000000e+00  0.000000e+00  0.000000e+00   \n",
       "2195   1.804069e-07   0.000000e+00  0.000000e+00  0.000000e+00  0.000000e+00   \n",
       "2196   1.804069e-07   0.000000e+00  0.000000e+00  0.000000e+00  0.000000e+00   \n",
       "2197   1.804069e-07   0.000000e+00  0.000000e+00  0.000000e+00  0.000000e+00   \n",
       "\n",
       "                 5             6             7             8             9  \n",
       "0     1.198683e-51  1.439409e-39  1.726470e-27  2.070251e-15  1.797505e-17  \n",
       "1     1.198683e-51  1.439409e-39  1.726470e-27  2.070251e-15  1.797505e-17  \n",
       "2     1.198683e-51  1.439409e-39  1.726470e-27  2.070251e-15  1.797505e-17  \n",
       "3     1.198683e-51  1.439409e-39  1.726470e-27  2.070251e-15  1.797505e-17  \n",
       "4     1.198683e-51  1.439409e-39  1.726470e-27  2.070251e-15  1.797505e-17  \n",
       "...            ...           ...           ...           ...           ...  \n",
       "2193  0.000000e+00  0.000000e+00  0.000000e+00  0.000000e+00  0.000000e+00  \n",
       "2194  0.000000e+00  0.000000e+00  0.000000e+00  0.000000e+00  0.000000e+00  \n",
       "2195  0.000000e+00  0.000000e+00  0.000000e+00  0.000000e+00  0.000000e+00  \n",
       "2196  0.000000e+00  0.000000e+00  0.000000e+00  0.000000e+00  0.000000e+00  \n",
       "2197  0.000000e+00  0.000000e+00  0.000000e+00  0.000000e+00  0.000000e+00  \n",
       "\n",
       "[2198 rows x 10 columns]"
      ]
     },
     "execution_count": 10,
     "metadata": {},
     "output_type": "execute_result"
    }
   ],
   "source": [
    "x = np.zeros((len(YI[0]),len(YI[-1][0])))\n",
    "for Y in YI:\n",
    "    x[0:len(Y),0:len(Y[0])]+=Y\n",
    "xx = pd.DataFrame(x)\n",
    "xx\n"
   ]
  },
  {
   "cell_type": "code",
   "execution_count": null,
   "metadata": {},
   "outputs": [],
   "source": []
  }
 ],
 "metadata": {
  "kernelspec": {
   "display_name": "Python 3",
   "language": "python",
   "name": "python3"
  },
  "language_info": {
   "codemirror_mode": {
    "name": "ipython",
    "version": 3
   },
   "file_extension": ".py",
   "mimetype": "text/x-python",
   "name": "python",
   "nbconvert_exporter": "python",
   "pygments_lexer": "ipython3",
   "version": "3.7.3"
  }
 },
 "nbformat": 4,
 "nbformat_minor": 2
}
