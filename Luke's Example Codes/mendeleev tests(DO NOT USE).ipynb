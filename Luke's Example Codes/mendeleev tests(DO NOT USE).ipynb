{
 "cells": [
  {
   "cell_type": "code",
   "execution_count": 1,
   "metadata": {},
   "outputs": [],
   "source": [
    "import numpy as np\n",
    "from mendeleev import element\n"
   ]
  },
  {
   "cell_type": "code",
   "execution_count": 39,
   "metadata": {},
   "outputs": [
    {
     "data": {
      "text/plain": [
       "dict_values([50.0, 94.0, 109.0, 187.0, 202.0, 235.9, 257.0, 289.0, 318.0, 346.0, 386.0, 406.0, 445.0, 1035.0, 1072.0, 1112.0, 1154.0, 1195.0, 1234.0, 1311.0, 1352.0, 1397.0, 1439.0, 4464.0, 4551.0, 4640.0, 4740.0, 4830.0, 4920.0, 5160.0, 5250.0, 5360.0, 5450.0, 5840.0, 5930.0, 6030.0, 6130.0, 7040.0, 7150.0, 7440.0, 7550.0, 11460.0, 11660.0, 11870.0, 12100.0, 12320.0, 12530.0, 13200.0, 13400.0, 13700.0, 13900.0, 14500.0, 14700.0, 14900.0, 15100.0, 17900.0, 18200.0, 18700.0, 18900.0, 36700.0, 37200.0, 37800.0, 38300.0, 48500.0, 49400.0, 50300.0, 199606.0])"
      ]
     },
     "execution_count": 39,
     "metadata": {},
     "output_type": "execute_result"
    }
   ],
   "source": [
    "(element(10).ionenergies.values())"
   ]
  },
  {
   "cell_type": "code",
   "execution_count": null,
   "metadata": {},
   "outputs": [],
   "source": []
  }
 ],
 "metadata": {
  "kernelspec": {
   "display_name": "Python 3",
   "language": "python",
   "name": "python3"
  },
  "language_info": {
   "codemirror_mode": {
    "name": "ipython",
    "version": 3
   },
   "file_extension": ".py",
   "mimetype": "text/x-python",
   "name": "python",
   "nbconvert_exporter": "python",
   "pygments_lexer": "ipython3",
   "version": "3.7.1"
  }
 },
 "nbformat": 4,
 "nbformat_minor": 2
}
